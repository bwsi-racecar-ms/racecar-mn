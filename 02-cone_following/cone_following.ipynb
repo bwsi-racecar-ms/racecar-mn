{
 "cells": [
  {
   "cell_type": "code",
   "execution_count": 1,
   "metadata": {
    "scrolled": true
   },
   "outputs": [],
   "source": [
    "# import functions \n",
    "import sys\n",
    "sys.path.insert(0, '..')\n",
    "from utils import *"
   ]
  },
  {
   "cell_type": "markdown",
   "metadata": {},
   "source": [
    "# racecar-mn starter class"
   ]
  },
  {
   "cell_type": "code",
   "execution_count": 2,
   "metadata": {},
   "outputs": [
    {
     "name": "stdout",
     "output_type": "stream",
     "text": [
      "ROS started successfully\n"
     ]
    }
   ],
   "source": [
    "# Starter code class that handles the fancy stuff. No need to modify this! \n",
    "class Racecar:\n",
    "    SCAN_TOPIC = \"/scan\"\n",
    "    IMAGE_TOPIC = \"/camera\"\n",
    "    DRIVE_TOPIC = \"/drive\"\n",
    "    \n",
    "    def __init__(self):\n",
    "        self.sub_scan = rospy.Subscriber(self.SCAN_TOPIC, LaserScan, callback=self.scan_callback)\n",
    "        self.sub_image = rospy.Subscriber(self.IMAGE_TOPIC, Image, callback=self.image_callback)\n",
    "        self.pub_drive = rospy.Publisher(self.DRIVE_TOPIC, AckermannDriveStamped, queue_size=1)\n",
    "        self.last_drive = AckermannDriveStamped()\n",
    "    \n",
    "    def image_callback(self, msg):\n",
    "        self.last_image = msg.data\n",
    "        \n",
    "    def show_last_image(self):\n",
    "        im = np.fromstring(self.last_image,dtype=np.uint8).reshape((480,-1,3))[...,::-1]\n",
    "        return im\n",
    "        \n",
    "    def scan_callback(self, msg):\n",
    "        self.last_scan = msg.ranges\n",
    "        \n",
    "    def drive(self, speed, angle):\n",
    "        msg = AckermannDriveStamped()\n",
    "        msg.drive.speed = speed\n",
    "        msg.drive.steering_angle = angle\n",
    "        self.last_drive = msg\n",
    "    \n",
    "    def stop(self):\n",
    "        self.drive(0, 0) #self.last_drive.drive.steering_angle)\n",
    "    \n",
    "    def look(self):\n",
    "        return self.last_image\n",
    "    \n",
    "    def scan(self):\n",
    "        return self.last_scan\n",
    "    \n",
    "    def run(self, func, param, time_limit=10):\n",
    "        r = rospy.Rate(60)\n",
    "        t = rospy.get_time()\n",
    "        cap = cv2.VideoCapture(2)\n",
    "        while rospy.get_time() - t < time_limit and not rospy.is_shutdown():\n",
    "            func(cap.read()[1], param)\n",
    "            self.pub_drive.publish(self.last_drive)\n",
    "            r.sleep()\n",
    "        cap.release()\n",
    "        print(\"END OF ROSPY RUN\")\n",
    "        self.stop()\n",
    "        self.pub_drive.publish(self.last_drive)\n",
    "        time.sleep(0.1)\n",
    "    \n",
    "rospy.init_node('racecar')\n",
    "rc = Racecar()\n",
    "print('ROS started successfully')"
   ]
  },
  {
   "cell_type": "markdown",
   "metadata": {},
   "source": [
    "# Part 0: Get HSV Values of Cone"
   ]
  },
  {
   "cell_type": "code",
   "execution_count": 11,
   "metadata": {},
   "outputs": [],
   "source": [
    "hsv_lower = np.array([2, 60, 232])\n",
    "hsv_upper = np.array([20, 255, 255])\n",
    "colorRange = (hsv_lower, hsv_upper)"
   ]
  },
  {
   "cell_type": "markdown",
   "metadata": {},
   "source": [
    "# Part 1: Cone Identification"
   ]
  },
  {
   "cell_type": "markdown",
   "metadata": {},
   "source": [
    "### 1a. Parameters"
   ]
  },
  {
   "cell_type": "code",
   "execution_count": 12,
   "metadata": {},
   "outputs": [],
   "source": [
    "min_size = 100\n",
    "video = False       # toggle video or image\n",
    "time_limit = 10    # time limit for debugging video\n",
    "save_image = False"
   ]
  },
  {
   "cell_type": "markdown",
   "metadata": {},
   "source": [
    "### 1b. Student Functions"
   ]
  },
  {
   "cell_type": "code",
   "execution_count": 4,
   "metadata": {
    "scrolled": true
   },
   "outputs": [],
   "source": [
    "def find_contours(img):\n",
    "    img_hsv = cv2.cvtColor(img, cv2.COLOR_BGR2HSV)\n",
    "    mask = cv2.inRange(img_hsv, hsv_lower, hsv_upper)\n",
    "    contours = cv2.findContours(mask, 3, 2)[1]\n",
    "    return contours, mask\n",
    "\n",
    "def check_contours_exist(contours, min_size):\n",
    "    greatest_contour = None\n",
    "    if contours == [] or contours is None:\n",
    "        print('no contour')\n",
    "        return False, greatest_contour\n",
    "    greatest_contour = find_greatest_contour(contours)\n",
    "    if cv2.contourArea(greatest_contour) < min_size:\n",
    "        print('contours too small')\n",
    "        return False, greatest_contour \n",
    "    return True, greatest_contour\n",
    "    \n",
    "def draw_contours(img, greatest_contour, mask):\n",
    "    color_mask = cv2.bitwise_and(img, img, mask=mask)\n",
    "    cv2.drawContours(img, [greatest_contour], 0, (0,255, 0), 2)    # draw contour\n",
    "    #x,y,w,h = cv2.boundingRect(cnt)                               # draw rectangle\n",
    "    #cv2.rectangle(img, (x,y),(x+w,y+h),(0,255, 0),4)\n",
    "    return img"
   ]
  },
  {
   "cell_type": "markdown",
   "metadata": {},
   "source": [
    "### 1c. Let's test our functions!"
   ]
  },
  {
   "cell_type": "code",
   "execution_count": 6,
   "metadata": {},
   "outputs": [
    {
     "data": {
      "image/jpeg": "[encoded data removed]",
      "text/plain": [
       "<IPython.core.display.Image object>"
      ]
     },
     "metadata": {},
     "output_type": "display_data"
    },
    {
     "name": "stdout",
     "output_type": "stream",
     "text": [
      "no contour\n"
     ]
    }
   ],
   "source": [
    "last_time = time.time()\n",
    "def identify_cone(img, param):\n",
    "    global last_time\n",
    "    colorRange, min_size = param \n",
    "    (hsv_lower, hsv_upper) = colorRange\n",
    "    \n",
    "    # run student helper functions\n",
    "    contours, mask = find_contours(img)\n",
    "    contours_exist, greatest_contour = check_contours_exist(contours, min_size)\n",
    "    if contours_exist:\n",
    "        img = draw_contours(img, greatest_contour, mask)\n",
    "    \n",
    "    # decrease frames per sec \n",
    "    if video and time.time()-last_time>=1:\n",
    "        show_frame(img)\n",
    "        last_time = time.time()\n",
    "    \n",
    "    return img\n",
    "\n",
    "# display image or video\n",
    "if video: show_identified_video(colorRange, min_size, identify_cone, time_limit, rc)\n",
    "else: show_identified_image(colorRange, min_size, identify_cone, save_image) "
   ]
  },
  {
   "cell_type": "markdown",
   "metadata": {},
   "source": [
    "# Part 2: Cone Following"
   ]
  },
  {
   "cell_type": "markdown",
   "metadata": {},
   "source": [
    "### 2a. Parameters"
   ]
  },
  {
   "cell_type": "code",
   "execution_count": 7,
   "metadata": {},
   "outputs": [],
   "source": [
    "drive_speed = 0.215\n",
    "screen_center = 320.0\n",
    "\n",
    "min_size = 100         # minimum size to be counted as contour\n",
    "forward_size = 12000   # contour small, move forwards\n",
    "backward_size = 30000  # contour large, move backwards"
   ]
  },
  {
   "cell_type": "markdown",
   "metadata": {},
   "source": [
    "### 2b. Student Functions"
   ]
  },
  {
   "cell_type": "code",
   "execution_count": 8,
   "metadata": {},
   "outputs": [],
   "source": [
    "def get_speed_angle(contour, size_ranges, screen_center):\n",
    "    speed, angle = [0, 0]\n",
    "    min_size, forward_size, backward_size = size_ranges\n",
    "    \n",
    "    ##-------- START HERE --------##\n",
    "    box_area = cv2.contourArea(contour)\n",
    "    if box_area > backward_size:\n",
    "        print('negative speed')\n",
    "        speed = -drive_speed\n",
    "    elif box_area < forward_size:\n",
    "        print('positive speed')\n",
    "        speed = drive_speed\n",
    "    else:\n",
    "        return (speed, angle)\n",
    "    ##----------------------------##\n",
    "    \n",
    "    speed, angle = get_moment(contour, (speed, angle), screen_center)\n",
    "    return (speed, angle) "
   ]
  },
  {
   "cell_type": "markdown",
   "metadata": {},
   "source": [
    "### 2c. Let's test our functions!"
   ]
  },
  {
   "cell_type": "code",
   "execution_count": null,
   "metadata": {},
   "outputs": [],
   "source": [
    "last_time = time.time()\n",
    "def cone_follow(img, params):\n",
    "    global last_time\n",
    "    img = cv2.resize(img, (480, 640))\n",
    "    \n",
    "    speed, angle = [0, 0]\n",
    "    colorRange, size_ranges = params\n",
    "    hsv_lower, hsv_upper = colorRange\n",
    "    min_size, forward_size, backward_size = size_ranges\n",
    "    \n",
    "    # run student helper functions\n",
    "    contours, mask = find_contours(img) \n",
    "    contours_exist, greatest_contour = check_contours_exist(contours, min_size)\n",
    "    if (contours_exist is True) and (cv2.contourArea(greatest_contour) > min_size):\n",
    "        speed, angle = get_speed_angle(greatest_contour, size_ranges, screen_center=img.shape[1]/2.0)\n",
    "        if speed == 0:\n",
    "            print('Parked!')\n",
    "        img = cv2.drawContours(img, [greatest_contour], 0, (0,255, 0), 2)\n",
    "        rc.drive(speed, angle)\n",
    "    \n",
    "    # decrease frames per sec \n",
    "    if video and time.time()-last_time>=1:\n",
    "        show_frame(img)\n",
    "        last_time = time.time()\n",
    "        \n",
    "    return img\n",
    "    \n",
    "# too small, range to stop: min to max\n",
    "params = (colorRange, [min_size, forward_size, backward_size])\n",
    "rc.run(cone_follow, params, time_limit) "
   ]
  }
 ],
 "metadata": {
  "celltoolbar": "Raw Cell Format",
  "kernelspec": {
   "display_name": "Python 2",
   "language": "python",
   "name": "python2"
  },
  "language_info": {
   "codemirror_mode": {
    "name": "ipython",
    "version": 2
   },
   "file_extension": ".py",
   "mimetype": "text/x-python",
   "name": "python",
   "nbconvert_exporter": "python",
   "pygments_lexer": "ipython2",
   "version": "2.7.15rc1"
  }
 },
 "nbformat": 4,
 "nbformat_minor": 2
}
