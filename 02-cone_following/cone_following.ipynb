{
 "cells": [
  {
   "cell_type": "code",
   "execution_count": 1,
   "metadata": {
    "scrolled": true
   },
   "outputs": [],
   "source": [
    "# import functions \n",
    "import sys\n",
    "sys.path.insert(0, '..')\n",
    "from utils import *"
   ]
  },
  {
   "cell_type": "markdown",
   "metadata": {},
   "source": [
    "# racecar-mn starter class"
   ]
  },
  {
   "cell_type": "code",
   "execution_count": 2,
   "metadata": {},
   "outputs": [
    {
     "name": "stdout",
     "output_type": "stream",
     "text": [
      "ROS started successfully\n"
     ]
    }
   ],
   "source": [
    "# Starter code class that handles the fancy stuff. No need to modify this! \n",
    "class Racecar:\n",
    "    SCAN_TOPIC = \"/scan\"\n",
    "    IMAGE_TOPIC = \"/camera\"\n",
    "    DRIVE_TOPIC = \"/drive\"\n",
    "    \n",
    "    def __init__(self):\n",
    "        self.sub_scan = rospy.Subscriber(self.SCAN_TOPIC, LaserScan, callback=self.scan_callback)\n",
    "        self.sub_image = rospy.Subscriber(self.IMAGE_TOPIC, Image, callback=self.image_callback)\n",
    "        self.pub_drive = rospy.Publisher(self.DRIVE_TOPIC, AckermannDriveStamped, queue_size=1)\n",
    "        self.last_drive = AckermannDriveStamped()\n",
    "    \n",
    "    def image_callback(self, msg):\n",
    "        self.last_image = msg.data\n",
    "        \n",
    "    def show_last_image(self):\n",
    "        im = np.fromstring(self.last_image,dtype=np.uint8).reshape((480,-1,3))[...,::-1]\n",
    "        return im\n",
    "        \n",
    "    def scan_callback(self, msg):\n",
    "        self.last_scan = msg.ranges\n",
    "        \n",
    "    def drive(self, speed, angle):\n",
    "        msg = AckermannDriveStamped()\n",
    "        msg.drive.speed = speed\n",
    "        msg.drive.steering_angle = angle\n",
    "        self.last_drive = msg\n",
    "    \n",
    "    def stop(self):\n",
    "        self.drive(0, 0) #self.last_drive.drive.steering_angle)\n",
    "    \n",
    "    def look(self):\n",
    "        return self.last_image\n",
    "    \n",
    "    def scan(self):\n",
    "        return self.last_scan\n",
    "    \n",
    "    def run(self, func, param, time_limit=10):\n",
    "        r = rospy.Rate(60)\n",
    "        t = rospy.get_time()\n",
    "        cap = cv2.VideoCapture(2)\n",
    "        while rospy.get_time() - t < time_limit and not rospy.is_shutdown():\n",
    "            func(cap.read()[1], param)\n",
    "            self.pub_drive.publish(self.last_drive)\n",
    "            r.sleep()\n",
    "        cap.release()\n",
    "        print(\"END OF ROSPY RUN\")\n",
    "        self.stop()\n",
    "        self.pub_drive.publish(self.last_drive)\n",
    "        time.sleep(0.1)\n",
    "    \n",
    "rospy.init_node('racecar')\n",
    "rc = Racecar()\n",
    "print('ROS started successfully')"
   ]
  },
  {
   "cell_type": "markdown",
   "metadata": {},
   "source": [
    "# Part 0: Get HSV Values of Cone"
   ]
  },
  {
   "cell_type": "code",
   "execution_count": 3,
   "metadata": {},
   "outputs": [],
   "source": [
    "hsv_lower = np.array([2, 60, 232])\n",
    "hsv_upper = np.array([20, 255, 255])\n",
    "colorRange = (hsv_lower, hsv_upper)\n",
    "\n",
    "min_size = 100\n",
    "video = True       # toggle video or image\n",
    "time_limit = 10    # time limite for debugging video\n",
    "save_image = False"
   ]
  },
  {
   "cell_type": "markdown",
   "metadata": {},
   "source": [
    "# Part 1: Cone Identification"
   ]
  },
  {
   "cell_type": "code",
   "execution_count": 7,
   "metadata": {
    "scrolled": true
   },
   "outputs": [],
   "source": [
    "def find_contours(img):\n",
    "    img_hsv = cv2.cvtColor(img, cv2.COLOR_BGR2HSV)\n",
    "    mask = cv2.inRange(img_hsv, hsv_lower, hsv_upper)\n",
    "    contours = cv2.findContours(mask, 3, 2)[1]\n",
    "    return contours, mask\n",
    "\n",
    "def check_contours_exist(contours, min_size):\n",
    "    greatest_contour = None\n",
    "    if contours == []:\n",
    "        return (False, greatest_contour)\n",
    "    greatest_contour = find_greatest_contour(contours)\n",
    "    if cv2.contourArea(greatest_contour) < min_size:\n",
    "        return (False, greatest_contour) \n",
    "    return (True, greatest_contour)\n",
    "    \n",
    "def draw_contours(img, greatest_contour, mask):\n",
    "    color_mask = cv2.bitwise_and(img, img, mask=mask)\n",
    "    cv2.drawContours(img, [greatest_contour], 0, (0,255, 0), 2)    # draw contour\n",
    "    #x,y,w,h = cv2.boundingRect(cnt)                               # draw rectangle\n",
    "    #cv2.rectangle(img, (x,y),(x+w,y+h),(0,255, 0),4)\n",
    "    return img"
   ]
  },
  {
   "cell_type": "markdown",
   "metadata": {},
   "source": [
    "## Let's test our functions!"
   ]
  },
  {
   "cell_type": "code",
   "execution_count": 9,
   "metadata": {},
   "outputs": [
    {
     "data": {
      "image/jpeg": "[encoded data removed]",
      "text/plain": [
       "<IPython.core.display.Image object>"
      ]
     },
     "metadata": {},
     "output_type": "display_data"
    },
    {
     "name": "stdout",
     "output_type": "stream",
     "text": [
      "END OF ROSPY RUN\n"
     ]
    }
   ],
   "source": [
    "last_time = time.time()\n",
    "def identify_cone(img, param):\n",
    "    global last_time\n",
    "    colorRange, min_size = param \n",
    "    (hsv_lower, hsv_upper) = colorRange\n",
    "    \n",
    "    # run student helper functions\n",
    "    contours, mask = find_contours(img)\n",
    "    contours_exist, greatest_contour = check_contours_exist(contours, min_size)\n",
    "    if contours_exist:\n",
    "        img = draw_contours(img, greatest_contour, mask)\n",
    "    \n",
    "    # decrease frames per sec \n",
    "    if video and time.time()-last_time>=1:\n",
    "        show_frame(img)\n",
    "        last_time = time.time()\n",
    "        \n",
    "    return img\n",
    "\n",
    "# display image or video\n",
    "if video: show_identified_video(colorRange, min_size, identify_cone, time_limit, rc)\n",
    "else: show_identified_image(colorRange, min_size, identify_cone, save_image) "
   ]
  },
  {
   "cell_type": "markdown",
   "metadata": {},
   "source": [
    "# Part 2: Cone Following WORKS"
   ]
  },
  {
   "cell_type": "code",
   "execution_count": 4,
   "metadata": {},
   "outputs": [],
   "source": [
    "speed = 0.215\n",
    "screen_center = 320.0\n"
   ]
  },
  {
   "cell_type": "code",
   "execution_count": 9,
   "metadata": {},
   "outputs": [
    {
     "data": {
      "text/plain": [
       "''"
      ]
     },
     "metadata": {},
     "output_type": "display_data"
    },
    {
     "name": "stdout",
     "output_type": "stream",
     "text": [
      "23595.0\n",
      "Right place to take control over!!\n",
      "[0, 0]\n"
     ]
    },
    {
     "ename": "AttributeError",
     "evalue": "'function' object has no attribute 'update'",
     "output_type": "error",
     "traceback": [
      "\u001b[0;31m\u001b[0m",
      "\u001b[0;31mAttributeError\u001b[0mTraceback (most recent call last)",
      "\u001b[0;32m<ipython-input-9-fe2e5221c4c3>\u001b[0m in \u001b[0;36m<module>\u001b[0;34m()\u001b[0m\n\u001b[1;32m     60\u001b[0m \u001b[0;34m\u001b[0m\u001b[0m\n\u001b[1;32m     61\u001b[0m \u001b[0;31m# too small, range to stop: min to max\u001b[0m\u001b[0;34m\u001b[0m\u001b[0;34m\u001b[0m\u001b[0m\n\u001b[0;32m---> 62\u001b[0;31m \u001b[0mrc\u001b[0m\u001b[0;34m.\u001b[0m\u001b[0mrun\u001b[0m\u001b[0;34m(\u001b[0m\u001b[0mcone_follow\u001b[0m\u001b[0;34m,\u001b[0m \u001b[0;34m(\u001b[0m\u001b[0mcolorRange\u001b[0m\u001b[0;34m,\u001b[0m \u001b[0;34m[\u001b[0m\u001b[0;36m100\u001b[0m\u001b[0;34m,\u001b[0m \u001b[0;36m12000\u001b[0m\u001b[0;34m,\u001b[0m \u001b[0;36m30000\u001b[0m\u001b[0;34m]\u001b[0m\u001b[0;34m)\u001b[0m\u001b[0;34m,\u001b[0m \u001b[0mlimit\u001b[0m\u001b[0;34m=\u001b[0m\u001b[0;36m15\u001b[0m\u001b[0;34m)\u001b[0m\u001b[0;34m\u001b[0m\u001b[0m\n\u001b[0m",
      "\u001b[0;32m<ipython-input-2-fabd7e3b7776>\u001b[0m in \u001b[0;36mrun\u001b[0;34m(self, func, param, limit)\u001b[0m\n\u001b[1;32m     41\u001b[0m         \u001b[0mcap\u001b[0m \u001b[0;34m=\u001b[0m \u001b[0mcv2\u001b[0m\u001b[0;34m.\u001b[0m\u001b[0mVideoCapture\u001b[0m\u001b[0;34m(\u001b[0m\u001b[0;36m1\u001b[0m\u001b[0;34m)\u001b[0m\u001b[0;34m\u001b[0m\u001b[0m\n\u001b[1;32m     42\u001b[0m         \u001b[0;32mwhile\u001b[0m \u001b[0mrospy\u001b[0m\u001b[0;34m.\u001b[0m\u001b[0mget_time\u001b[0m\u001b[0;34m(\u001b[0m\u001b[0;34m)\u001b[0m \u001b[0;34m-\u001b[0m \u001b[0mt\u001b[0m \u001b[0;34m<\u001b[0m \u001b[0mlimit\u001b[0m \u001b[0;32mand\u001b[0m \u001b[0;32mnot\u001b[0m \u001b[0mrospy\u001b[0m\u001b[0;34m.\u001b[0m\u001b[0mis_shutdown\u001b[0m\u001b[0;34m(\u001b[0m\u001b[0;34m)\u001b[0m\u001b[0;34m:\u001b[0m\u001b[0;34m\u001b[0m\u001b[0m\n\u001b[0;32m---> 43\u001b[0;31m             \u001b[0mfunc\u001b[0m\u001b[0;34m(\u001b[0m\u001b[0mcap\u001b[0m\u001b[0;34m.\u001b[0m\u001b[0mread\u001b[0m\u001b[0;34m(\u001b[0m\u001b[0;34m)\u001b[0m\u001b[0;34m[\u001b[0m\u001b[0;36m1\u001b[0m\u001b[0;34m]\u001b[0m\u001b[0;34m,\u001b[0m \u001b[0mparam\u001b[0m\u001b[0;34m)\u001b[0m\u001b[0;34m\u001b[0m\u001b[0m\n\u001b[0m\u001b[1;32m     44\u001b[0m             \u001b[0mself\u001b[0m\u001b[0;34m.\u001b[0m\u001b[0mpub_drive\u001b[0m\u001b[0;34m.\u001b[0m\u001b[0mpublish\u001b[0m\u001b[0;34m(\u001b[0m\u001b[0mself\u001b[0m\u001b[0;34m.\u001b[0m\u001b[0mlast_drive\u001b[0m\u001b[0;34m)\u001b[0m\u001b[0;34m\u001b[0m\u001b[0m\n\u001b[1;32m     45\u001b[0m             \u001b[0mr\u001b[0m\u001b[0;34m.\u001b[0m\u001b[0msleep\u001b[0m\u001b[0;34m(\u001b[0m\u001b[0;34m)\u001b[0m\u001b[0;34m\u001b[0m\u001b[0m\n",
      "\u001b[0;32m<ipython-input-9-fe2e5221c4c3>\u001b[0m in \u001b[0;36mcone_follow\u001b[0;34m(img, color_size_ranges)\u001b[0m\n\u001b[1;32m     57\u001b[0m     \u001b[0;31m# draw box?\u001b[0m\u001b[0;34m\u001b[0m\u001b[0;34m\u001b[0m\u001b[0m\n\u001b[1;32m     58\u001b[0m \u001b[0;34m\u001b[0m\u001b[0m\n\u001b[0;32m---> 59\u001b[0;31m     \u001b[0mstaggered_video\u001b[0m\u001b[0;34m(\u001b[0m\u001b[0mimg\u001b[0m\u001b[0;34m,\u001b[0m \u001b[0mlast_time\u001b[0m\u001b[0;34m)\u001b[0m\u001b[0;34m\u001b[0m\u001b[0m\n\u001b[0m\u001b[1;32m     60\u001b[0m \u001b[0;34m\u001b[0m\u001b[0m\n\u001b[1;32m     61\u001b[0m \u001b[0;31m# too small, range to stop: min to max\u001b[0m\u001b[0;34m\u001b[0m\u001b[0;34m\u001b[0m\u001b[0m\n",
      "\u001b[0;32m/home/racecar/racecar_ws/jupyter_ws/racecar-mn/utils.py\u001b[0m in \u001b[0;36mstaggered_video\u001b[0;34m(frame, last_time)\u001b[0m\n\u001b[1;32m     39\u001b[0m     \u001b[0;32mglobal\u001b[0m \u001b[0mdisplay\u001b[0m\u001b[0;34m\u001b[0m\u001b[0m\n\u001b[1;32m     40\u001b[0m     \u001b[0;31m#print(last_time, time.time())\u001b[0m\u001b[0;34m\u001b[0m\u001b[0;34m\u001b[0m\u001b[0m\n\u001b[0;32m---> 41\u001b[0;31m     \u001b[0;32mif\u001b[0m \u001b[0mtime\u001b[0m\u001b[0;34m.\u001b[0m\u001b[0mtime\u001b[0m\u001b[0;34m(\u001b[0m\u001b[0;34m)\u001b[0m \u001b[0;34m-\u001b[0m \u001b[0mlast_time\u001b[0m \u001b[0;34m>=\u001b[0m \u001b[0;36m1\u001b[0m\u001b[0;34m:\u001b[0m\u001b[0;34m\u001b[0m\u001b[0m\n\u001b[0m\u001b[1;32m     42\u001b[0m         \u001b[0mshow_frame\u001b[0m\u001b[0;34m(\u001b[0m\u001b[0mframe\u001b[0m\u001b[0;34m)\u001b[0m\u001b[0;34m\u001b[0m\u001b[0m\n\u001b[1;32m     43\u001b[0m         \u001b[0mlast_time\u001b[0m \u001b[0;34m=\u001b[0m \u001b[0mtime\u001b[0m\u001b[0;34m.\u001b[0m\u001b[0mtime\u001b[0m\u001b[0;34m(\u001b[0m\u001b[0;34m)\u001b[0m\u001b[0;34m\u001b[0m\u001b[0m\n",
      "\u001b[0;32m/home/racecar/racecar_ws/jupyter_ws/racecar-mn/utils.py\u001b[0m in \u001b[0;36mshow_frame\u001b[0;34m(frame)\u001b[0m\n\u001b[1;32m     33\u001b[0m     \u001b[0mPIL\u001b[0m\u001b[0;34m.\u001b[0m\u001b[0mImage\u001b[0m\u001b[0;34m.\u001b[0m\u001b[0mfromarray\u001b[0m\u001b[0;34m(\u001b[0m\u001b[0mframe\u001b[0m\u001b[0;34m)\u001b[0m\u001b[0;34m.\u001b[0m\u001b[0msave\u001b[0m\u001b[0;34m(\u001b[0m\u001b[0mf\u001b[0m\u001b[0;34m,\u001b[0m \u001b[0;34m'jpeg'\u001b[0m\u001b[0;34m)\u001b[0m\u001b[0;34m\u001b[0m\u001b[0m\n\u001b[1;32m     34\u001b[0m     \u001b[0mimg\u001b[0m \u001b[0;34m=\u001b[0m \u001b[0mIPython\u001b[0m\u001b[0;34m.\u001b[0m\u001b[0mdisplay\u001b[0m\u001b[0;34m.\u001b[0m\u001b[0mImage\u001b[0m\u001b[0;34m(\u001b[0m\u001b[0mdata\u001b[0m\u001b[0;34m=\u001b[0m\u001b[0mf\u001b[0m\u001b[0;34m.\u001b[0m\u001b[0mgetvalue\u001b[0m\u001b[0;34m(\u001b[0m\u001b[0;34m)\u001b[0m\u001b[0;34m)\u001b[0m\u001b[0;34m\u001b[0m\u001b[0m\n\u001b[0;32m---> 35\u001b[0;31m     \u001b[0mdisplay\u001b[0m\u001b[0;34m.\u001b[0m\u001b[0mupdate\u001b[0m\u001b[0;34m(\u001b[0m\u001b[0mimg\u001b[0m\u001b[0;34m)\u001b[0m\u001b[0;34m\u001b[0m\u001b[0m\n\u001b[0m\u001b[1;32m     36\u001b[0m \u001b[0;34m\u001b[0m\u001b[0m\n\u001b[1;32m     37\u001b[0m \u001b[0mlast_time\u001b[0m \u001b[0;34m=\u001b[0m \u001b[0mtime\u001b[0m\u001b[0;34m.\u001b[0m\u001b[0mtime\u001b[0m\u001b[0;34m(\u001b[0m\u001b[0;34m)\u001b[0m\u001b[0;34m\u001b[0m\u001b[0m\n",
      "\u001b[0;31mAttributeError\u001b[0m: 'function' object has no attribute 'update'"
     ]
    }
   ],
   "source": [
    "def get_speed_angle(contour, sizeRange, screen_center):\n",
    "    res = [0, 0]\n",
    "    \n",
    "    ##-------- START HERE --------##\n",
    "    box_area = cv2.contourArea(contour)\n",
    "    if box_area > sizeRange[2]:\n",
    "        print('negative speed')\n",
    "        res[0] = -speed\n",
    "    elif box_area < sizeRange[1]:\n",
    "        print('positive speed')\n",
    "        res[0] = speed\n",
    "    else:\n",
    "        return res \n",
    "    ##----------------------------##\n",
    "    \n",
    "    res = get_moment(contour, res, screen_center)\n",
    "    return res \n",
    "\n",
    "\n",
    "def cone_follow(img, color_size_ranges):\n",
    "    global last_time\n",
    "    img = cv2.resize(img, (480, 640))\n",
    "    \n",
    "    colorRange, sizeRange = color_size_ranges\n",
    "    hsv = cv2.cvtColor(img, cv2.COLOR_BGR2HSV)\n",
    "    mask = cv2.inRange(hsv, colorRange[0], colorRange[1])\n",
    "    ctImg, contours, __ = cv2.findContours(mask,cv2.RETR_TREE,cv2.CHAIN_APPROX_SIMPLE)\n",
    "    \n",
    "    '''\n",
    "    0 - min_size\n",
    "    1 - less than second: start moving forward\n",
    "    2- greater than third: start moving backward\n",
    "    '''\n",
    "    \n",
    "    res = [0, 0]\n",
    "    if contours == [] or contours is None: \n",
    "        # stop driving\n",
    "        print(\"No Contour\") \n",
    "        return img\n",
    "    \n",
    "    cnt = find_greatest_contour(contours)\n",
    "    print(cv2.contourArea(cnt))\n",
    "    if cv2.contourArea(cnt) < sizeRange[0]:\n",
    "        # stop driving \n",
    "        print(\"Too Small\") \n",
    "        return img\n",
    "    res = get_speed_angle(cnt, sizeRange, screen_center=img.shape[1]/2.0)\n",
    "    \n",
    "    if res[0] == 0:\n",
    "        print('Right place to take control over!!')\n",
    "    img = cv2.drawContours(img, [cnt], 0, (0,255, 0), 2)\n",
    "    print(res)\n",
    "    rc.drive(res[0], res[1])\n",
    "    # draw box?\n",
    "    \n",
    "    staggered_video(img, last_time)\n",
    "\n",
    "# too small, range to stop: min to max\n",
    "rc.run(cone_follow, (colorRange, [100, 12000, 30000]), limit=15) "
   ]
  },
  {
   "cell_type": "code",
   "execution_count": null,
   "metadata": {},
   "outputs": [],
   "source": []
  }
 ],
 "metadata": {
  "celltoolbar": "Raw Cell Format",
  "kernelspec": {
   "display_name": "Python 2",
   "language": "python",
   "name": "python2"
  },
  "language_info": {
   "codemirror_mode": {
    "name": "ipython",
    "version": 2
   },
   "file_extension": ".py",
   "mimetype": "text/x-python",
   "name": "python",
   "nbconvert_exporter": "python",
   "pygments_lexer": "ipython2",
   "version": "2.7.15rc1"
  }
 },
 "nbformat": 4,
 "nbformat_minor": 2
}
