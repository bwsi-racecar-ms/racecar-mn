{
 "cells": [
  {
   "cell_type": "code",
   "execution_count": 1,
   "metadata": {
    "scrolled": true
   },
   "outputs": [],
   "source": [
    "# import functions!\n",
    "from racecar_utils import *"
   ]
  },
  {
   "cell_type": "markdown",
   "metadata": {},
   "source": [
    "# racecar-mn starter class"
   ]
  },
  {
   "cell_type": "code",
   "execution_count": 2,
   "metadata": {},
   "outputs": [
    {
     "name": "stdout",
     "output_type": "stream",
     "text": [
      "ROS started sucessfully\n"
     ]
    }
   ],
   "source": [
    "# Starter code class that handles the fancy stuff. No need to modify this! \n",
    "class Racecar:\n",
    "    SCAN_TOPIC = \"/scan\"\n",
    "    IMAGE_TOPIC = \"/camera\"\n",
    "    DRIVE_TOPIC = \"/drive\"\n",
    "    \n",
    "    def __init__(self):\n",
    "        self.sub_scan = rospy.Subscriber(self.SCAN_TOPIC, LaserScan, callback=self.scan_callback)\n",
    "        self.sub_image = rospy.Subscriber(self.IMAGE_TOPIC, Image, callback=self.image_callback)\n",
    "        self.pub_drive = rospy.Publisher(self.DRIVE_TOPIC, AckermannDriveStamped, queue_size=1)\n",
    "        self.last_drive = AckermannDriveStamped()\n",
    "    \n",
    "    def image_callback(self, msg):\n",
    "        self.last_image = msg.data\n",
    "        \n",
    "    def show_last_image(self):\n",
    "        im = np.fromstring(self.last_image,dtype=np.uint8).reshape((480,-1,3))[...,::-1]\n",
    "        return im\n",
    "        \n",
    "    def scan_callback(self, msg):\n",
    "        self.last_scan = msg.ranges\n",
    "        \n",
    "    def drive(self, speed, angle):\n",
    "        msg = AckermannDriveStamped()\n",
    "        msg.drive.speed = speed\n",
    "        msg.drive.steering_angle = angle\n",
    "        self.last_drive = msg\n",
    "    \n",
    "    def stop(self):\n",
    "        self.drive(0, 0) #self.last_drive.drive.steering_angle)\n",
    "    \n",
    "    def look(self):\n",
    "        return self.last_image\n",
    "    \n",
    "    def scan(self):\n",
    "        return self.last_scan\n",
    "    \n",
    "    def run(self, func, param, limit=10):\n",
    "        r = rospy.Rate(60)\n",
    "        t = rospy.get_time()\n",
    "        cap = cv2.VideoCapture(1)\n",
    "        while rospy.get_time() - t < limit and not rospy.is_shutdown():\n",
    "            func(cap.read()[1], param)\n",
    "            self.pub_drive.publish(self.last_drive)\n",
    "            r.sleep()\n",
    "        cap.release()\n",
    "        print(\"END OF ROSPY RUN\")\n",
    "        self.stop()\n",
    "        self.pub_drive.publish(self.last_drive)\n",
    "        time.sleep(0.1)\n",
    "    \n",
    "rospy.init_node('racecar')\n",
    "rc = Racecar()\n",
    "print('ROS started sucessfully')"
   ]
  },
  {
   "cell_type": "markdown",
   "metadata": {},
   "source": [
    "# Part 0: Get HSV Values of Cone"
   ]
  },
  {
   "cell_type": "code",
   "execution_count": 3,
   "metadata": {},
   "outputs": [],
   "source": [
    "hsv_lower = np.array([2, 60, 232])\n",
    "hsv_upper = np.array([20, 255, 255])\n",
    "colorRange = (hsv_lower, hsv_upper)\n",
    "\n",
    "min_size = 100\n",
    "video = False # toggle video or image"
   ]
  },
  {
   "cell_type": "markdown",
   "metadata": {},
   "source": [
    "# Part 1: Cone Identification (image works, video meh)"
   ]
  },
  {
   "cell_type": "markdown",
   "metadata": {},
   "source": [
    "### Find the greatest contour.\n",
    "Finish the helper function \"find_greatest_contour\". This function should return the contour with the biggest area from the list of contours."
   ]
  },
  {
   "cell_type": "code",
   "execution_count": 4,
   "metadata": {
    "scrolled": true
   },
   "outputs": [],
   "source": [
    "def find_contours(img):\n",
    "    img_hsv = cv2.cvtColor(img, cv2.COLOR_BGR2HSV)\n",
    "    mask = cv2.inRange(img_hsv, hsv_lower, hsv_upper)\n",
    "    contours = cv2.findContours(mask, 3, 2)[1]\n",
    "    return contours, mask\n",
    "\n",
    "def check_contours_exist(contours, min_size):\n",
    "    if contours == []:\n",
    "        return False\n",
    "    else:\n",
    "        greatest_contour = find_greatest_contour(contours)\n",
    "        if cv2.contourArea(greatest_contour) < min_size:\n",
    "            return False \n",
    "        area = cv2.contourArea(greatest_contour)\n",
    "        print('Contour Area:{}'.format(area))\n",
    "    \n",
    "def draw_contours(contours, mask):\n",
    "    color_mask = cv2.bitwise_and(img, img, mask=mask)\n",
    "    cv2.drawContours(img, [greatest_contour], 0, (0,255, 0), 2)    # draw contour\n",
    "    #x,y,w,h = cv2.boundingRect(cnt)                               # draw rectangle\n",
    "    #cv2.rectangle(img, (x,y),(x+w,y+h),(0,255, 0),4)\n",
    "    return img"
   ]
  },
  {
   "cell_type": "markdown",
   "metadata": {},
   "source": [
    "## Let's test our functions!"
   ]
  },
  {
   "cell_type": "code",
   "execution_count": 5,
   "metadata": {},
   "outputs": [
    {
     "data": {
      "image/jpeg": "[encoded data removed]",
      "text/plain": [
       "<IPython.core.display.Image object>"
      ]
     },
     "metadata": {},
     "output_type": "display_data"
    }
   ],
   "source": [
    "def identify_cone(img, param):\n",
    "    global last_time\n",
    "    colorRange, min_range = param \n",
    "    (hsv_lower, hsv_upper) = colorRange\n",
    "    \n",
    "    # student helper functions\n",
    "    contours, mask = find_contours(img)\n",
    "    contours_exist = check_contours_exist(contours, min_size)\n",
    "    if contours_exist:\n",
    "        img = draw_contours()\n",
    "        if video: staggered_video(img, last_time)\n",
    "            \n",
    "    return img\n",
    "\n",
    "# display image or video\n",
    "if video: \n",
    "    show_identified_video(colorRange, min_size, identify_cone, rc)\n",
    "else: \n",
    "    show_identified_image(colorRange, min_size, identify_cone) "
   ]
  },
  {
   "cell_type": "markdown",
   "metadata": {},
   "source": [
    "# Part 2: Cone Following WORKS"
   ]
  },
  {
   "cell_type": "code",
   "execution_count": null,
   "metadata": {},
   "outputs": [],
   "source": [
    "def get_speed_angle(contour, sizeRange, screen_center=320.0):\n",
    "    # find speed \n",
    "    res = [0, 0]\n",
    "    speed =.215\n",
    "    box_area = cv2.contourArea(contour)\n",
    "    if box_area > sizeRange[2]:\n",
    "        print('negative speed')\n",
    "        res[0] = -speed\n",
    "    elif box_area < sizeRange[1]:\n",
    "        print('positive speed')\n",
    "        res[0] = speed\n",
    "    else:\n",
    "        return res \n",
    "    \n",
    "    res = get_mome\n",
    "    return res \n",
    "\n",
    "def cone_follow(img, color_size_ranges):\n",
    "    #print(img, color_size_ranges, stop_turn_angle)\n",
    "    colorRange, sizeRange = color_size_ranges\n",
    "    hsv = cv2.cvtColor(img, cv2.COLOR_BGR2HSV)\n",
    "    mask = cv2.inRange(hsv, colorRange[0], colorRange[1])\n",
    "    ctImg, contours, __ = cv2.findContours(mask,cv2.RETR_TREE,cv2.CHAIN_APPROX_SIMPLE)\n",
    "    res = [0, 0]\n",
    "    if contours == [] or contours is None: \n",
    "        # stop driving\n",
    "        print(\"No Contour\") \n",
    "        return img\n",
    "    \n",
    "    cnt = find_greatest_contour(contours)\n",
    "    print(cv2.contourArea(cnt))\n",
    "    if cv2.contourArea(cnt) < sizeRange[0]:\n",
    "        # stop driving \n",
    "        print(\"Too Small\") \n",
    "        return img\n",
    "    res = get_speed_angle(cnt, sizeRange, screen_center=img.shape[1]/2.0)\n",
    "\n",
    "    if res[0] == 0:\n",
    "        print('Right place to take control over!!')\n",
    "    img = cv2.drawContours(img, [cnt], 0, (0,255, 0), 2)\n",
    "    print(res)\n",
    "    rc.drive(res[0], res[1])\n",
    "    # draw box?\n",
    "    \n",
    "    return img\n"
   ]
  },
  {
   "cell_type": "code",
   "execution_count": null,
   "metadata": {},
   "outputs": [],
   "source": [
    "ipython_display()\n",
    "\n",
    "def student_code(frame, params):\n",
    "    global last_time\n",
    "    frame = cv2.resize(frame, (480, 640))\n",
    "    img = cone_follow(frame, params)\n",
    "    \n",
    "    # show video\n",
    "    staggered_video(img, last_time)\n",
    "\n",
    "# too small, range to stop: min to max\n",
    "rc.run(student_code, (colorRange, [100, 12000, 30000]), limit=15) "
   ]
  },
  {
   "cell_type": "markdown",
   "metadata": {},
   "source": []
  }
 ],
 "metadata": {
  "celltoolbar": "Raw Cell Format",
  "kernelspec": {
   "display_name": "Python 2",
   "language": "python",
   "name": "python2"
  },
  "language_info": {
   "codemirror_mode": {
    "name": "ipython",
    "version": 2
   },
   "file_extension": ".py",
   "mimetype": "text/x-python",
   "name": "python",
   "nbconvert_exporter": "python",
   "pygments_lexer": "ipython2",
   "version": "2.7.15rc1"
  }
 },
 "nbformat": 4,
 "nbformat_minor": 2
}
