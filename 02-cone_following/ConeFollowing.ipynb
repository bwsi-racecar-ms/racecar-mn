{
 "cells": [
  {
   "cell_type": "code",
   "execution_count": null,
   "metadata": {
    "scrolled": true
   },
   "outputs": [],
   "source": [
    "# Import functions \n",
    "import sys\n",
    "sys.path.insert(0, '..')\n",
    "from utils import *  \n",
    "\n",
    "rospy.init_node('racecar')\n",
    "rc = Racecar()\n",
    "print('ROS node started successfully')"
   ]
  },
  {
   "cell_type": "markdown",
   "metadata": {},
   "source": [
    "# Cone Following\n",
    "\n",
    "<p style='font-size:1.75rem;line-height:1.5'>\n",
    "    Today's task will involve using our previous knowledge of contours, masking, and other opencv techniques to identify, follow, and park/stop a foot away from the cone.\n",
    "    </p>"
   ]
  },
  {
   "cell_type": "markdown",
   "metadata": {},
   "source": [
    "# Part 1: Cone Identification\n",
    "\n",
    "<p style='font-size:1.75rem;line-height:1.5'>\n",
    "    In this section, we will be identifying cones by masking and finding contours in the image.\n",
    "    </p>"
   ]
  },
  {
   "cell_type": "markdown",
   "metadata": {},
   "source": [
    "### 1a. Find the HSV Values of the Cone\n",
    "\n",
    "<p style='font-size:1.75rem;line-height:1.5'>\n",
    "    Set the HSV lower and upper bounds to detect the cone!\n",
    "    <ol style='font-size:1.75rem;line-height:1.5'>\n",
    "        <li>Use <code>hsv_select(&lt;seconds&gt;)</code> to mask for the cone!</li>\n",
    "        <li>Update <code>HSV_LOWER</code> and <code>HSV_UPPER</code>!</li>\n",
    "    </ol>\n",
    "    </p>\n",
    "    \n",
    "<img src=\"cone_mask.png\" width=\"100\" height=\"150\"> "
   ]
  },
  {
   "cell_type": "code",
   "execution_count": null,
   "metadata": {},
   "outputs": [],
   "source": [
    "hsv_select_live() # default: 10 sec"
   ]
  },
  {
   "cell_type": "code",
   "execution_count": null,
   "metadata": {},
   "outputs": [],
   "source": [
    "HSV_LOWER = np.array([None, None, None])\n",
    "HSV_UPPER = np.array([None, None, None])"
   ]
  },
  {
   "cell_type": "markdown",
   "metadata": {},
   "source": [
    "### 1b. <code>find_contours</code>\n",
    "\n",
    "<p style='font-size:1.75rem;line-height:1.5'>\n",
    "    This function finds and returns the contours and mask of <code>img</code>.\n",
    "    </p>"
   ]
  },
  {
   "cell_type": "code",
   "execution_count": null,
   "metadata": {},
   "outputs": [],
   "source": [
    "def find_contours(img):\n",
    "    # TASK #1: Convert the img to from bgr to hsv.\n",
    "    \n",
    "    \n",
    "    # TASK #2: Mask the image using hsv_lower and hsv_upper. Save as 'mask'.\n",
    "    \n",
    "    \n",
    "    # TASK #3: Find the contours in the image. Save as 'contours'.\n",
    "   \n",
    "    \n",
    "    return contours, mask"
   ]
  },
  {
   "cell_type": "markdown",
   "metadata": {},
   "source": [
    "### 1c. <code>check_contours_exist</code>\n",
    "\n",
    "<p style='font-size:1.75rem;line-height:1.5'>\n",
    "    This function checks that: 1. there are contours, 2. the contours are large enough.\n",
    "    </p>"
   ]
  },
  {
   "cell_type": "code",
   "execution_count": null,
   "metadata": {},
   "outputs": [],
   "source": [
    "# The minimum required size of a detected contour to be considered a potential cone\n",
    "EXIST_SIZE = 500   # change this number!"
   ]
  },
  {
   "cell_type": "code",
   "execution_count": null,
   "metadata": {
    "scrolled": true
   },
   "outputs": [],
   "source": [
    "def check_contours_exist(contours):\n",
    "    greatest_contour = None\n",
    "    \n",
    "    # TASK #1: If the contours list is empty, return (False, greatest_contour)\n",
    "    \n",
    "    \n",
    "    # TASK #2: Call 'find_greatest_contour'. \n",
    "    #          This function returns 'greatest_contour', and accepts one argument: 'contours'.\n",
    "    \n",
    "    \n",
    "    # TASK #3: If the contour area of the greatest contour is smaller than 'EXIST_SIZE', return (False, greatest_contour)\n",
    "    \n",
    "    \n",
    "    \n",
    "    return (True, greatest_contour)"
   ]
  },
  {
   "cell_type": "markdown",
   "metadata": {},
   "source": [
    "### 1d. <code>draw_contours</code>\n",
    "<p style='font-size:1.75rem;line-height:1.5'>\n",
    "    This function draws either regular or rectangle contours around a detected object. \n",
    "    <br> The returned images look something like this:\n",
    "    </p>\n",
    "\n",
    "<img src=\"cone_contour.png\" alt=\"cone_contour\" width=\"100\" height=\"150\"/>\n",
    "<img src=\"cone_rectangle.png\" alt=\"cone_rectangle\" width=\"100\" height=\"150\"/>"
   ]
  },
  {
   "cell_type": "code",
   "execution_count": null,
   "metadata": {},
   "outputs": [],
   "source": [
    "def draw_contours(img, greatest_contour, mask):\n",
    "    # TASK #1: Get the color mask of the image, using 'img' and 'mask'\n",
    "    \n",
    "    \n",
    "    # TASK #2: Draw the [greatest contour] on 'img'. \n",
    "    #          Use either drawContours or cv2.rectangle. Use any color and thickness.\n",
    "    \n",
    "    \n",
    "    \n",
    "    \n",
    "    return img"
   ]
  },
  {
   "cell_type": "markdown",
   "metadata": {},
   "source": [
    "### 1e. Let's test our functions!\n",
    "\n",
    "<p style='font-size:1.75rem;line-height:1.5'>\n",
    "    Run the cell block below. Make sure that our function can identify the cone by drawing a bounding box around it. \n",
    "    </p>\n",
    "    \n",
    "<p style='font-size:1.75rem;line-height:1.5'>    \n",
    "    Modify the hsv bounds from above to find the best values for your racecar. Different lighting conditions will cause the bounds to change. The better your HSV values, the better your car will run!\n",
    "    </p>\n",
    "    \n",
    "<p style='font-size:1.75rem;line-height:1.5'>\n",
    "    <b style='color:red'>Remember to get a sticker from a TA before taking your car off the block!</b>\n",
    "    </p>"
   ]
  },
  {
   "cell_type": "code",
   "execution_count": null,
   "metadata": {},
   "outputs": [],
   "source": [
    "VIDEO = True        # toggle between showing the camera video (True) or camera image (False)\n",
    "VIDEO_LIMIT = 10    # seconds to show the video for debugging!"
   ]
  },
  {
   "cell_type": "code",
   "execution_count": null,
   "metadata": {},
   "outputs": [],
   "source": [
    "last_time = time.time()\n",
    "def identify_cone(img):\n",
    "    global last_time\n",
    "    \n",
    "    # run student helper functions\n",
    "    contours, mask = find_contours(img)\n",
    "    contours_exist, greatest_contour = check_contours_exist(contours)\n",
    "    if contours_exist:\n",
    "        img = draw_contours(img, greatest_contour, mask)\n",
    "    \n",
    "    # decrease frames per sec \n",
    "    if VIDEO and time.time()-last_time>=1:\n",
    "        show_frame(img)\n",
    "        last_time = time.time()\n",
    "    \n",
    "    return img\n",
    "\n",
    "# display image or video\n",
    "if VIDEO: show_video(identify_cone, VIDEO_LIMIT, rc)\n",
    "else: show_image(identify_cone) "
   ]
  },
  {
   "cell_type": "markdown",
   "metadata": {},
   "source": [
    "# Part 2: Cone Following\n",
    "\n",
    "<p style='font-size:1.75rem;line-height:1.5'>\n",
    "    Now that our car can identify the cone, let us have our car follow the cone until it is one foot away from the cone. \n",
    "    </p>"
   ]
  },
  {
   "cell_type": "markdown",
   "metadata": {},
   "source": [
    "### 2a. Parameters\n",
    "\n",
    "<p style='font-size:1.75rem;line-height:1.5'>\n",
    "    We have provided some useful parameters for debugging your functions:\n",
    "    <ul style='font-size:1.75rem;line-height:1.5'>\n",
    "        <li><code>SCREEN_CENTER (float):</code> the camera is slightly shifted. Use this to re-set the center pixel location of your output image.</li>\n",
    "        <li><code>DRIVE_SPEED (float):</code> the speed of your racecar</li>\n",
    "        <li><code>MIN_SIZE (int):</code> contours smaller than this value is too small, make the car drive forwards to get closer</li>\n",
    "        <li><code>MAX_SIZE (int):</code> contour larger than this value is too large, make the car drive backwards to get further</li>\n",
    "        <li><code>ANGLE (float):</code> maximum turn angle of the car</li>\n",
    "    </ul>\n",
    "    </p>"
   ]
  },
  {
   "cell_type": "code",
   "execution_count": null,
   "metadata": {},
   "outputs": [],
   "source": [
    "# 2b: Fix camera offset\n",
    "SCREEN_CENTER = 300    # pixel x-axis, camera is right-shifted\n",
    "\n",
    "# 2c: get_speed\n",
    "DRIVE_SPEED = 0    # should be a float between 0 to 1\n",
    "MIN_SIZE = 10000  # contour small, move forwards\n",
    "MAX_SIZE = 40000  # contour large, move backwards\n",
    "\n",
    "# 2d: get_angle\n",
    "MAX_ERROR = 50\n",
    "MAX_ANGLE = 0.25     "
   ]
  },
  {
   "cell_type": "markdown",
   "metadata": {},
   "source": [
    "### 2b. Fix the camera offset\n",
    "\n",
    "<p style='font-size:1.75rem;line-height:1.5'>\n",
    "    The camera is slightly shifted horizontally (x-axis). \n",
    "    <br> Update <code>SCREEN_CENTER</code> to re-set the center pixel location of your output image.\n",
    "    </p>\n",
    "    \n",
    "<p style='font-size:1.75rem;line-height:1.5'>\n",
    "    The function below draws a circle at <code>SCREEN_CENTER</code>. \n",
    "    <br> How to find the correct value:\n",
    "    <ol style='font-size:1.75rem;line-height:1.5'>\n",
    "        <li>Place an object directly in front of your camera at where you think center is.</li>\n",
    "        <li>Run the two cell blocks below to test your <code>SCREEN_CENTER</code> value. </li>\n",
    "        <li>Your drawn circle should be matched to the center of the object in the outputted image. </li>\n",
    "    </ol>\n",
    "    </p>\n",
    "    \n",
    "<p style='font-size:1.75rem;line-height:1.5'>\n",
    "    Getting the correct <code>SCREEN_CENTER</code> value here will help you later in the the <code>get_angle</code> function.\n",
    "    </p>"
   ]
  },
  {
   "cell_type": "code",
   "execution_count": null,
   "metadata": {},
   "outputs": [],
   "source": [
    "VIDEO = False       # toggle between showing the camera video (True) or camera image (False)\n",
    "VIDEO_LIMIT = 10    # seconds to show the video for debugging!"
   ]
  },
  {
   "cell_type": "code",
   "execution_count": null,
   "metadata": {},
   "outputs": [],
   "source": [
    "last_time = time.time()\n",
    "def identify_center(img):\n",
    "    global last_time\n",
    "     \n",
    "    # draw center of image via SCREEN_CENTER\n",
    "    cv2.circle(img, (SCREEN_CENTER, 120), 2, (0,0,255), -1)\n",
    "    \n",
    "    # decrease frames per sec \n",
    "    if VIDEO and time.time()-last_time>=1:\n",
    "        show_frame(img)\n",
    "        last_time = time.time()\n",
    "    \n",
    "    return img\n",
    "\n",
    "# display image or video\n",
    "if VIDEO: show_video(identify_center, VIDEO_LIMIT, rc)\n",
    "else: show_image(identify_center) "
   ]
  },
  {
   "cell_type": "markdown",
   "metadata": {},
   "source": [
    "### 2c. <code>get_speed</code>\n",
    "\n",
    "<p style='font-size:1.75rem;line-height:1.5'>\n",
    "    <code>get_speed</code> determines if the car will drive forwards or backwards depending on how close the car is to the cone. \n",
    "    <br>The closer the cone, the larger the contour will be.\n",
    "    </p>\n",
    "\n",
    "<p style='font-size:1.75rem;line-height:1.5'>\n",
    "    If the car is within a specific range (aka within 1 ft of the cone), then the car will not drive. \n",
    "    <br>Else it will drive forwards or backwards to get to the correct range.\n",
    "    </p>"
   ]
  },
  {
   "cell_type": "code",
   "execution_count": null,
   "metadata": {},
   "outputs": [],
   "source": [
    "def get_speed(contour):\n",
    "    # TASK #1: Get the contour area of 'contour'\n",
    "    \n",
    "    \n",
    "    # TASK #2: If the contour area is smaller than the MIN_SIZE, set speed to DRIVE_SPEED. \n",
    "    #          If the contour area is larger than the MAX_SIZE, set speed to the -DRIVE_SPEED.\n",
    "    #          If the contour area is within range, set speed to 0 (don't drive).\n",
    "    \n",
    "    \n",
    "        \n",
    "    return speed"
   ]
  },
  {
   "cell_type": "markdown",
   "metadata": {},
   "source": [
    "### 2d.  <code>get_angle</code>\n",
    "\n",
    "<p style='font-size:1.75rem;line-height:1.5'>\n",
    "    <code>get_angle</code> returns the turn angle of the car. We will determine whether to turn left or right, and how much to turn, depending on the location of the cone in our image. When the cone is at the center of the image, the car and cone are aligned. \n",
    "    </p>\n",
    "    \n",
    "<p style='font-size:1.75rem;line-height:1.5'>\n",
    "    <b>Discuss with your group members some ways we might calculate the angle for the car to move.</b> \n",
    "    </p>\n",
    "\n",
    "<p style='font-size:1.75rem;line-height:1.5'>\n",
    "    <ul style='font-size:1.75rem;line-height:1.5'>\n",
    "        <li>The center of the cone is found at <code>contour_center</code></li>\n",
    "        <li>Calculate the ratio that the cone is away from the center of the screen: \n",
    "            <br><code>ratio = (contour_center - SCREEN_CENTER)/SCREEN_CENTER</code> </li>\n",
    "        <li>If the offset error <code>error = contour_center - SCREEN_CENTER</code> is greater than the <code>MAX_ERROR</code>, multiply <code>ratio</code> by the <code>max_angle</code> to find the return angle. </li>\n",
    "    </ul>\n",
    "    </p>\n"
   ]
  },
  {
   "cell_type": "code",
   "execution_count": null,
   "metadata": {},
   "outputs": [],
   "source": [
    "def get_angle(contour, res):\n",
    "    speed, angle = res\n",
    "    \n",
    "    # find center of contour (aka. detected cone)\n",
    "    M = cv2.moments(contour)\n",
    "    if M['m00'] != 0.0:\n",
    "        contour_center = int(M['m10']/M['m00'])\n",
    "        ratio = 0 \n",
    "        # adjust turn direction based on speed direction\n",
    "        max_angle = -abs(MAX_ANGLE)     # negative\n",
    "        if speed < 0:\n",
    "            max_angle = abs(MAX_ANGLE)  # positive\n",
    "        \n",
    "        \n",
    "        ## ------ STUDENT CODE HERE ------ ##\n",
    "        \n",
    "        # calculate the offset error\n",
    "        \n",
    "        \n",
    "        # if the offset error is larger than MAX_ERROR\n",
    "        \n",
    "            \n",
    "            # calculate the ratio\n",
    "            \n",
    "            \n",
    "            # calculate the return angle\n",
    "            \n",
    "            \n",
    "            # return the angle\n",
    "            \n",
    "        \n",
    "        ## ------------------------------- ##\n",
    "        \n",
    "        \n",
    "    return angle"
   ]
  },
  {
   "cell_type": "markdown",
   "metadata": {},
   "source": [
    "### 2f. Let's test our functions!\n",
    "\n",
    "<p style='font-size:1.75rem;line-height:1.5'>\n",
    "    Run the cell block below. Make sure that our function can identify the cone by drawing a bounding box around it. \n",
    "    </p>\n",
    "    \n",
    "<p style='font-size:1.75rem;line-height:1.5'>    \n",
    "    Modify the hsv bounds from above to find the best values for your racecar. Different lighting conditions will cause the bounds to change. The better your HSV values, the better your car will run!\n",
    "    </p>\n",
    "    \n",
    "![cone_following.gif](cone_following.gif)"
   ]
  },
  {
   "cell_type": "code",
   "execution_count": null,
   "metadata": {
    "scrolled": true
   },
   "outputs": [],
   "source": [
    "last_time = time.time()\n",
    "def cone_follow(img):\n",
    "    global last_time\n",
    "    img = cv2.resize(img, (480, 640))\n",
    "    \n",
    "    speed, angle = [0, 0]\n",
    "    \n",
    "    # run student helper functions\n",
    "    contours, mask = find_contours(img) \n",
    "    contours_exist, greatest_contour = check_contours_exist(contours)\n",
    "    if (contours_exist is True) and (cv2.contourArea(greatest_contour) > MIN_SIZE):\n",
    "        speed, angle = get_speed(greatest_contour), get_angle(greatest_contour, (speed, angle))\n",
    "        contour_area = cv2.contourArea(greatest_contour)\n",
    "        if speed == 0:\n",
    "            print('Parked! {}'.format(contour_area))\n",
    "        img = cv2.drawContours(img, [greatest_contour], 0, (0,255, 0), 2)\n",
    "        rc.drive(speed, angle)\n",
    "    \n",
    "    # decrease frames per sec \n",
    "    if VIDEO and time.time()-last_time>=1:\n",
    "        show_frame(img)\n",
    "        last_time = time.time()\n",
    "        \n",
    "    return img\n",
    "    \n",
    "# too small, range to stop: min to max\n",
    "rc.run(cone_follow, time_limit) "
   ]
  }
 ],
 "metadata": {
  "celltoolbar": "Raw Cell Format",
  "kernelspec": {
   "display_name": "Python 2",
   "language": "python",
   "name": "python2"
  },
  "language_info": {
   "codemirror_mode": {
    "name": "ipython",
    "version": 2
   },
   "file_extension": ".py",
   "mimetype": "text/x-python",
   "name": "python",
   "nbconvert_exporter": "python",
   "pygments_lexer": "ipython2",
   "version": "2.7.16"
  }
 },
 "nbformat": 4,
 "nbformat_minor": 2
}
