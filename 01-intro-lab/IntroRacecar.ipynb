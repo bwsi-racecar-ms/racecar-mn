{
 "cells": [
  {
   "cell_type": "code",
   "execution_count": 7,
   "metadata": {},
   "outputs": [],
   "source": [
    "# Import functions \n",
    "import sys\n",
    "sys.path.insert(0, '..')\n",
    "from utils import *\n",
    "\n",
    "# Time limit for debugging video\n",
    "time_limit = 10    "
   ]
  },
  {
   "cell_type": "code",
   "execution_count": 8,
   "metadata": {},
   "outputs": [
    {
     "name": "stdout",
     "output_type": "stream",
     "text": [
      "ROS node started successfully\n"
     ]
    }
   ],
   "source": [
    "# Starter code class that handles the fancy stuff. No need to modify this! \n",
    "class Racecar:\n",
    "    SCAN_TOPIC = \"/scan\"\n",
    "    IMAGE_TOPIC = \"/camera\"\n",
    "    DRIVE_TOPIC = \"/drive\"\n",
    "    \n",
    "    def __init__(self):\n",
    "        self.sub_scan = rospy.Subscriber(self.SCAN_TOPIC, LaserScan, callback=self.scan_callback)\n",
    "        self.sub_image = rospy.Subscriber(self.IMAGE_TOPIC, Image, callback=self.image_callback)\n",
    "        self.pub_drive = rospy.Publisher(self.DRIVE_TOPIC, AckermannDriveStamped, queue_size=1)\n",
    "        self.last_drive = AckermannDriveStamped()\n",
    "    \n",
    "    def image_callback(self, msg):\n",
    "        self.last_image = msg.data\n",
    "        \n",
    "    def show_last_image(self):\n",
    "        im = np.fromstring(self.last_image,dtype=np.uint8).reshape((480,-1,3))[...,::-1]\n",
    "        return im\n",
    "        \n",
    "    def scan_callback(self, msg):\n",
    "        self.last_scan = msg.ranges\n",
    "        \n",
    "    def drive(self, speed, angle):\n",
    "        msg = AckermannDriveStamped()\n",
    "        msg.drive.speed = speed\n",
    "        msg.drive.steering_angle = angle\n",
    "        self.last_drive = msg\n",
    "    \n",
    "    def stop(self):\n",
    "        self.drive(0, 0) #self.last_drive.drive.steering_angle)\n",
    "    \n",
    "    def look(self):\n",
    "        return self.last_image\n",
    "    \n",
    "    def scan(self):\n",
    "        return self.last_scan\n",
    "    \n",
    "    def run(self, func, limit = 10):\n",
    "        r = rospy.Rate(60)\n",
    "        t = rospy.get_time()\n",
    "        video = cv2.VideoCapture(1)\n",
    "        while rospy.get_time() - t < limit and not rospy.is_shutdown():\n",
    "            func(video.read()[1])\n",
    "            self.pub_drive.publish(self.last_drive)\n",
    "            r.sleep()\n",
    "        video.release()\n",
    "        \n",
    "        self.stop()\n",
    "        self.pub_drive.publish(self.last_drive)\n",
    "        time.sleep(0.1)\n",
    "    \n",
    "rospy.init_node('racecar')\n",
    "rc = Racecar()\n",
    "print('ROS node started successfully')"
   ]
  },
  {
   "cell_type": "markdown",
   "metadata": {},
   "source": [
    "<span style='font-size:1.75rem;line-height:1.5'>\n",
    "   <center>\n",
    "      <h3> We are getting our cars today!</h3>\n",
    "   </center>\n",
    "    <h4 style='color:red;'> Before we start setting up, make sure to review the rules: </h4>\n",
    "    <ol>\n",
    "        <li> Make sure that a car is always on a BLOCK before testing code the first time. </li>\n",
    "        <li> To run on the ground, your car NEEDS A STICKER from an instructor/TA.  </li>\n",
    "        <img src='img1.jpg' height='800' width='800'> </img> <br/>\n",
    "    </ol>\n",
    "    <center style='color:red;'> EACH TIME THE CAR CRASHES (PHYSICALLY), WE WILL TAKE YOUR CAR AWAY <br/> \n",
    "    FOR A CERTAIN AMOUNT (MAY BE 10-20 MINUTES OR EVEN A WHOLE DAY) AND DECREASE THE SPEED. </center>\n",
    "    <center style='color:green;'> Right now, our cars are at 85% possible speed. If our class is good and not crashing, we may increase the cars to the max speed for the final race. </center>\n",
    "</span>"
   ]
  },
  {
   "cell_type": "markdown",
   "metadata": {},
   "source": [
    "<span style='font-size:1.75rem;line-height:1.5'>\n",
    "    To have our cars running, we need to do a few things first: \n",
    "   <ol>\n",
    "      <li> We need to make sure that our car brain is turned on by plugging in the white battery that powers the brains:\n",
    "         <img src='whitebat1.jpg' height='300' width='300' />\n",
    "         This is how it looks when it plugs in:\n",
    "         <img src='whitebat2.jpg' height='500' width='300' style='transform:rotate(90deg);' /> <br/> <br/>\n",
    "         When this battery is plugged in, the jetson (brain) should light up here, like this:\n",
    "         <img src='whitebat3.jpg' height='300' width='300' />\n",
    "      </li>\n",
    "      <li> We also need to turn our car motor on by plugging this battery in:  \n",
    "         <img src='motbat1.jpg' height='300' width='300' style='transform:rotate(180deg);'/> \n",
    "         This battery needs to be connected to here in the car:\n",
    "         <img src='motbat2.jpg' height='300' width='300' /> \n",
    "         <img src='motbat3.jpg' height='300' width='300' />\n",
    "         This is how it looks when it's connected and secured in place:\n",
    "         <img src='motbat4.jpg' height='300' width='300' />\n",
    "         We also need to make sure that this switch is turned on: <br/> <br/>\n",
    "         <img src='switch.jpg' height='300' width='300' style='transform:rotate(90deg);'/> <br/> <br/>\n",
    "      </li>\n",
    "      Now that the hardware is all ready to go, let us access the software part of the car. \n",
    "      <li>\n",
    "         We can access the software through the car's jupyter notebook remotely from the computer. \n",
    "         To do so, first make sure that the computer is on the correct wifi for the car we are trying to connect:\n",
    "         <ul>\n",
    "            <li> RMS_BRAVO: 2, 3, 4, 5 </li>\n",
    "            <li> RMS_CHARLIE: 6, 7, 8, 9  </li>\n",
    "            <li> RMS_DELTA: 10, 11, 12, 13 </li>\n",
    "         </ul>\n",
    "      </li>\n",
    "      <li> Once we have our computers on the right wifi, open the google chrome web browser on your computer. It should automatically redirect you to the correct jupyter notebook. If not, type <code>192.168.1.&lt;car#&gt;:8888 </code> \n",
    "          <img src='' height='400' width='800'/>\n",
    "      </li>\n",
    "      <li> From there, jupyter should open. <br>\n",
    "          Then, we will be able to get to the car's jupyter notebook. \n",
    "          Now, we need to open the terminal from the jupyter home screen. \n",
    "          <img src=\"open_term.png\" height='400' width='800'/>\n",
    "          <img src=\"term1.png\" height='400' width='800'/> <br> \n",
    "      </li>\n",
    "      <li>  Then, type <code> bash </code> into the terminal. \n",
    "            This should happen: <img src=\"term2.png\" height='400' width='800'/> <br> \n",
    "            Then, type in <code> teleop. </code> \n",
    "            This should happen: <img src=\"term3.png\" height='400' width='800'/> \n",
    "            When teleop is starting to run, make sure to have the joystick (see below for an image) nearby and press its center button. \n",
    "            <br> <br> <br>  <img src='joystick.jpg' height='300' width='300' style='transform:rotate(90deg);'/> <br> <br> \n",
    "      </li>\n",
    "      <li> Now, we can control the racecar with our controllers and also run almost any code here. Test the following code below to make sure the car runs. <br> <p style='color:red'> MAKE SURE THE CAR IS ON A BLOCK BEFORE RUNNING. </p> <img src='img1.jpg' height='300' width='300'/> The car should start driving straight forward. </li>\n",
    "   </ol>\n",
    "</span>"
   ]
  },
  {
   "cell_type": "code",
   "execution_count": null,
   "metadata": {},
   "outputs": [],
   "source": [
    "# car will drive forward for ~10 seconds\n",
    "def drive_forward(frame):\n",
    "    rc.drive(0.2, 0)\n",
    "    \n",
    "rc.run(drive_forward)"
   ]
  },
  {
   "cell_type": "markdown",
   "metadata": {},
   "source": [
    "<span style='font-size:1.75rem;line-height:1.5'>\n",
    "    <code>rc.drive({speed}, {angle})</code> is a function that tells the car to drive at the speed and angle passed into the function. \n",
    "    <code> rc.run({function name})</code> is a function that tells the car to run the function passed into <code>rc.run</code> for about 10 seconds. \n",
    "     For now, let us experiment with the speed and angle to get used to how the car measurements work. \n",
    "</span>"
   ]
  },
  {
   "cell_type": "code",
   "execution_count": 5,
   "metadata": {},
   "outputs": [
    {
     "name": "stdout",
     "output_type": "stream",
     "text": [
      "END OF ROSPY RUN\n"
     ]
    }
   ],
   "source": [
    "# car will drive forward for ~10 seconds\n",
    "def drive_forward(frame):\n",
    "    rc.drive(0.2, 0) # change these numbers \n",
    "    \n",
    "rc.run(drive_forward)"
   ]
  },
  {
   "cell_type": "markdown",
   "metadata": {},
   "source": [
    "# Part 1: "
   ]
  },
  {
   "cell_type": "markdown",
   "metadata": {},
   "source": [
    "<span style='font-size:1.75rem;line-height:1.5'>\n",
    "By now, we have realized that we need approximate what '0.2' in car measurements translates into human measurements. To do so, we TAs have prepared a long ruler tape that the car can drive upon and based on that and a (possibly human) calculator, we can calculate the speed of car in in/s. \n",
    "    \n",
    "<img src='' height='300' width='300'/>\n",
    "\n",
    "Car measurements and human measurements may not translate linearly so it may be wise to test at different intervals. \n",
    "\n",
    "To help both us document and double check (as well as your understanding of exactly how fast the cars can run), submit the results to this form: https://forms.gle/iNzNW2aiQE8nFAqA7 (You may submit it may times) \n",
    "\n",
    "If the measurements are drastically different from what is expected, we will tell you and fix it (may be a low motor battery problem). \n",
    "\n",
    "Get a TA's okay when your group is ready to start the car on the ground. \n",
    "(TAs may ask you at what number a car will no longer speed up or turn any more.)\n",
    "\n",
    "<p style='color:red'> \n",
    "    You MUST get a TA's approval before taking your car off the block and driving your car on the floor. If we see cars driving without the appropriate sticker, your racecar will be taken away.\n",
    "    </p>\n",
    "</span>"
   ]
  },
  {
   "cell_type": "code",
   "execution_count": null,
   "metadata": {},
   "outputs": [],
   "source": [
    "def drive_forward(frame):\n",
    "    rc.run(0.2, 0)\n",
    "    \n",
    "rc.run(drive_forward)"
   ]
  },
  {
   "cell_type": "markdown",
   "metadata": {},
   "source": [
    "# Part 2\n",
    "---- "
   ]
  },
  {
   "cell_type": "markdown",
   "metadata": {},
   "source": [
    "<span style='font-size:1.75rem;line-height:1.5'>\n",
    "\n",
    "Now that we have basic idea of the measurements, let us make a function that will drive the car in a circle autonomously! \n",
    "</span>"
   ]
  },
  {
   "cell_type": "code",
   "execution_count": 9,
   "metadata": {},
   "outputs": [],
   "source": [
    "# define your own function \n",
    "\n",
    "def circle(frame):\n",
    "    pass \n",
    "    # use the drive function to have the car run in a circle \n",
    "    rc.drive(0.2, 0)\n",
    "\n",
    "rc.run(circle)"
   ]
  },
  {
   "cell_type": "markdown",
   "metadata": {},
   "source": [
    "<span style='font-size:1.75rem;line-height:1.5'>\n",
    "Now, for our next challenge, we will be learning a new racecar function:\n",
    "\n",
    "<code>rc.run({function name}, {arguments})</code> is a function that tells the car to run the {function} passed into <code>rc.run</code> for about 10 seconds and also passes {arguments} to {function}. Basically think of it as running function(frame, {arguments}) for 10 seconds. (Note: it is actually arguments being passed, not {arguments}). \n",
    "\n",
    "Now, using the function we have just learned, try using making the car drive in a square autonomously! \n",
    "</span> "
   ]
  },
  {
   "cell_type": "code",
   "execution_count": null,
   "metadata": {},
   "outputs": [],
   "source": [
    "def square(frame, arguments):\n",
    "    pass \n",
    "    # use the drive function to have the car run \n",
    "\n",
    "# rc.run()"
   ]
  },
  {
   "cell_type": "markdown",
   "metadata": {},
   "source": [
    "<span style='font-size:1.75rem;line-height:1.5'>\n",
    "\n",
    "Now try driving it in a triangle autonomously! \n",
    "</span> "
   ]
  },
  {
   "cell_type": "code",
   "execution_count": null,
   "metadata": {},
   "outputs": [],
   "source": [
    "def triangle(frame, arguments):\n",
    "    pass \n",
    "    # use the drive function to have the car run \n",
    "\n",
    "# rc.run()"
   ]
  },
  {
   "cell_type": "markdown",
   "metadata": {},
   "source": [
    "<span style='font-size:1.75rem;line-height:1.5'>\n",
    "\n",
    "Challenge: try driving it in a figure-eight autonomously! \n",
    "</span> "
   ]
  },
  {
   "cell_type": "code",
   "execution_count": null,
   "metadata": {},
   "outputs": [],
   "source": [
    "def figure_eight(frame, arguments):\n",
    "    pass \n",
    "    # use the drive function to have the car run \n",
    "\n",
    "# rc.run()"
   ]
  },
  {
   "cell_type": "markdown",
   "metadata": {},
   "source": [
    "# Mini Competition 1: Cone Parking"
   ]
  },
  {
   "cell_type": "markdown",
   "metadata": {},
   "source": [
    "<span style='font-size:1.75rem;line-height:1.5'>\n",
    "\n",
    "Now, we're going to have a small competition where we learn to park cars in front of a cone. Here are the rules and how points are counted:\n",
    "<ol>\n",
    "    <li> Winner is car that starts the furthest away from cone, and parks exactly half a foot away from the cone. </li> \n",
    "    <li> -10 points will be subtracted from each attempt that the car bumps/touches into the cone. </li>\n",
    "    <li> -20 points will be subtracted from each attempt that the car crashes into the cone. </li>\n",
    "    <li> Hhitting a wall = car getting taken away, so BE CAREFUL EVEN ON YOUR FIRST ATTEMPTS. It is better to start off too slow than too fast. <b>START SLOW</b></li>\n",
    "    <li> Positive points calculation formula (best attempt): starting distance from cone*speed of car - abs(ending distance from a cone - .5)  </li> \n",
    "    <li> Any attempt that involves the joystick taking over control will be disqualified </li>\n",
    "    <li> Final point value = best attempt positive value - abs(negative point value) </li>\n",
    "</ol>\n",
    "</span>"
   ]
  },
  {
   "cell_type": "code",
   "execution_count": null,
   "metadata": {},
   "outputs": [],
   "source": [
    "def known_cone_parking(frame, argument):\n",
    "    pass \n",
    "\n",
    "# rc.run() \n"
   ]
  },
  {
   "cell_type": "markdown",
   "metadata": {},
   "source": [
    "Challenge: Based on a distance given in feet, create an algorithm (code) that will park a feet from the distance. "
   ]
  },
  {
   "cell_type": "markdown",
   "metadata": {},
   "source": [
    "# Competition 2: Obstacle Navigation"
   ]
  },
  {
   "cell_type": "markdown",
   "metadata": {},
   "source": [
    "<span style='font-size:1.75rem;line-height:1.5'>\n",
    "\n",
    "Next, we will have a competition to see who can best navigate obstacles of exactly 4 feet apart. The winning car will be the car that can best weave through these obstacles and not bump into them. This time, we won't give a rubric.\n",
    "\n",
    "Have fun testing! \n",
    "<img src='https://sayingimages.com/wp-content/uploads/dont-worry-you-got-this-meme.jpg' height='300' width='300'/> \n",
    "\n",
    "</span>\n"
   ]
  },
  {
   "cell_type": "code",
   "execution_count": null,
   "metadata": {},
   "outputs": [],
   "source": [
    "def known_obs_nav(frame, arguments):\n",
    "    pass \n",
    "\n",
    "# rc.run() \n"
   ]
  }
 ],
 "metadata": {
  "kernelspec": {
   "display_name": "Python 2",
   "language": "python",
   "name": "python2"
  },
  "language_info": {
   "codemirror_mode": {
    "name": "ipython",
    "version": 2
   },
   "file_extension": ".py",
   "mimetype": "text/x-python",
   "name": "python",
   "nbconvert_exporter": "python",
   "pygments_lexer": "ipython2",
   "version": "2.7.15rc1"
  }
 },
 "nbformat": 4,
 "nbformat_minor": 2
}
