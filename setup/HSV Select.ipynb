{
 "cells": [
  {
   "cell_type": "code",
   "execution_count": null,
   "metadata": {},
   "outputs": [],
   "source": [
    "import cv2\n",
    "import time\n",
    "import PIL.Image\n",
    "from io import BytesIO\n",
    "import IPython.display\n",
    "import ipywidgets as widgets\n",
    "import threading"
   ]
  },
  {
   "cell_type": "code",
   "execution_count": null,
   "metadata": {
    "scrolled": false
   },
   "outputs": [],
   "source": [
    "def hsv_select_live(limit = 10):\n",
    "    # Mask and display video\n",
    "    display = IPython.display.display('', display_id=1)\n",
    "    \n",
    "    # Create sliders\n",
    "    h = widgets.IntRangeSlider(value=[0, 179], min=0, max=179, description='Hue:', continuous_update=True, layout=widgets.Layout(width='100%'))\n",
    "    s = widgets.IntRangeSlider(value=[0, 255], min=0, max=255, description='Saturation:', continuous_update=True, layout=widgets.Layout(width='100%'))\n",
    "    v = widgets.IntRangeSlider(value=[0, 255], min=0, max=255, description='Value:', continuous_update=True, layout=widgets.Layout(width='100%'))\n",
    "    display.update(h)\n",
    "    display.update(s)\n",
    "    display.update(v)\n",
    "    \n",
    "    # Live masked video for the thread\n",
    "    def show_masked_video():\n",
    "        video = cv2.VideoCapture(0)\n",
    "        start = time.time()\n",
    "        while time.time() - start < limit:\n",
    "            frame = video.read()[1]\n",
    "            if frame is not None:\n",
    "                hsv_min = (h.value[0], s.value[0], v.value[0])\n",
    "                hsv_max = (h.value[1], s.value[1], v.value[1])\n",
    "                frame = cv2.resize(frame, (320, 240))\n",
    "                frame = cv2.flip(frame, 1)\n",
    "                frame = cv2.cvtColor(frame, cv2.COLOR_BGR2RGB)\n",
    "                img_hsv = cv2.cvtColor(frame, cv2.COLOR_RGB2HSV)\n",
    "                mask = cv2.inRange(img_hsv, hsv_min, hsv_max)\n",
    "                img_masked = cv2.bitwise_and(frame, frame, mask = mask)\n",
    "                f = BytesIO()\n",
    "                PIL.Image.fromarray(img_masked).save(f, 'jpeg')\n",
    "                img_jpeg = IPython.display.Image(data=f.getvalue())\n",
    "                display.update(img_jpeg)\n",
    "                time.sleep(0.25)\n",
    "        video.release()\n",
    "    hsv_thread = threading.Thread(target=show_masked_video)\n",
    "    hsv_thread.start()"
   ]
  }
 ],
 "metadata": {
  "kernelspec": {
   "display_name": "Python 2",
   "language": "python",
   "name": "python2"
  },
  "language_info": {
   "codemirror_mode": {
    "name": "ipython",
    "version": 2
   },
   "file_extension": ".py",
   "mimetype": "text/x-python",
   "name": "python",
   "nbconvert_exporter": "python",
   "pygments_lexer": "ipython2",
   "version": "2.7.16"
  }
 },
 "nbformat": 4,
 "nbformat_minor": 2
}
